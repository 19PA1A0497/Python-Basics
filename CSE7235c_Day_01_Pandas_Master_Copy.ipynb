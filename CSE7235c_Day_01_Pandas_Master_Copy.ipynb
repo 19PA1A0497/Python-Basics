{
  "nbformat": 4,
  "nbformat_minor": 0,
  "metadata": {
    "kernelspec": {
      "display_name": "Python 3",
      "language": "python",
      "name": "python3"
    },
    "language_info": {
      "codemirror_mode": {
        "name": "ipython",
        "version": 3
      },
      "file_extension": ".py",
      "mimetype": "text/x-python",
      "name": "python",
      "nbconvert_exporter": "python",
      "pygments_lexer": "ipython3",
      "version": "3.6.4"
    },
    "varInspector": {
      "cols": {
        "lenName": 16,
        "lenType": 16,
        "lenVar": 40
      },
      "kernels_config": {
        "python": {
          "delete_cmd_postfix": "",
          "delete_cmd_prefix": "del ",
          "library": "var_list.py",
          "varRefreshCmd": "print(var_dic_list())"
        },
        "r": {
          "delete_cmd_postfix": ") ",
          "delete_cmd_prefix": "rm(",
          "library": "var_list.r",
          "varRefreshCmd": "cat(var_dic_list()) "
        }
      },
      "types_to_exclude": [
        "module",
        "function",
        "builtin_function_or_method",
        "instance",
        "_Feature"
      ],
      "window_display": false
    },
    "colab": {
      "name": "CSE7235c_Day_01_Pandas_Master_Copy.ipynb",
      "provenance": [],
      "include_colab_link": true
    }
  },
  "cells": [
    {
      "cell_type": "markdown",
      "metadata": {
        "id": "view-in-github",
        "colab_type": "text"
      },
      "source": [
        "<a href=\"https://colab.research.google.com/github/19PA1A0497/Python-Basics/blob/master/CSE7235c_Day_01_Pandas_Master_Copy.ipynb\" target=\"_parent\"><img src=\"https://colab.research.google.com/assets/colab-badge.svg\" alt=\"Open In Colab\"/></a>"
      ]
    },
    {
      "cell_type": "markdown",
      "metadata": {
        "id": "2BkpM-ROXmGV",
        "colab_type": "text"
      },
      "source": [
        "# <center>**Pandas Introduction**</center>\n",
        "---\n",
        "\n",
        "<br>\n"
      ]
    },
    {
      "cell_type": "markdown",
      "metadata": {
        "collapsed": true,
        "id": "PJheEArDXmGd",
        "colab_type": "text"
      },
      "source": [
        "## **Pandas DataFrame**\n"
      ]
    },
    {
      "cell_type": "code",
      "metadata": {
        "id": "cs2789TFXmGh",
        "colab_type": "code",
        "colab": {}
      },
      "source": [
        "# import pandas\n",
        "import pandas as pd"
      ],
      "execution_count": 0,
      "outputs": []
    },
    {
      "cell_type": "markdown",
      "metadata": {
        "id": "HlSdUkwHXmGq",
        "colab_type": "text"
      },
      "source": [
        "## **Reading data**"
      ]
    },
    {
      "cell_type": "code",
      "metadata": {
        "id": "NcLXqOi8XmGs",
        "colab_type": "code",
        "colab": {}
      },
      "source": [
        "# Read data from csv file\n",
        "ipl = pd.read_csv('matches2008-2016.csv')\n",
        "ipl_new = pd.read_csv('matches2017.csv')"
      ],
      "execution_count": 0,
      "outputs": []
    },
    {
      "cell_type": "code",
      "metadata": {
        "id": "lax025-xXmGz",
        "colab_type": "code",
        "outputId": "712fc7b0-25b4-4c78-f88b-c9741c584257",
        "colab": {
          "base_uri": "https://localhost:8080/",
          "height": 260
        }
      },
      "source": [
        "print(ipl)"
      ],
      "execution_count": 0,
      "outputs": [
        {
          "output_type": "stream",
          "text": [
            "    match_id  season        city  ... venue_id          umpire1          umpire2\n",
            "0     2008_1    2008   Bangalore  ...        7        Asad Rauf      RE Koertzen\n",
            "1     2008_2    2008  Chandigarh  ...        9        MR Benson       SL Shastri\n",
            "2     2008_3    2008       Delhi  ...        2        Aleem Dar   GA Pratapkumar\n",
            "3     2008_4    2008      Mumbai  ...        1         SJ Davis        DJ Harper\n",
            "4     2008_5    2008     Kolkata  ...        3        BF Bowden      K Hariharan\n",
            "..       ...     ...         ...  ...      ...              ...              ...\n",
            "572  2016_56    2016      Raipur  ...       27   A Nand Kishore     BNJ Oxenford\n",
            "573  2016_57    2016   Bangalore  ...        7     AK Chaudhary  HDPK Dharmasena\n",
            "574  2016_58    2016       Delhi  ...        2        M Erasmus    C Shamshuddin\n",
            "575  2016_59    2016       Delhi  ...        2        M Erasmus        CK Nandan\n",
            "576  2016_60    2016   Bangalore  ...        7  HDPK Dharmasena     BNJ Oxenford\n",
            "\n",
            "[577 rows x 19 columns]\n"
          ],
          "name": "stdout"
        }
      ]
    },
    {
      "cell_type": "markdown",
      "metadata": {
        "id": "l4NuLRN9XmG6",
        "colab_type": "text"
      },
      "source": [
        "## **Checking data dimensions**\n",
        "- use the shape method on data frame to get the dimensions"
      ]
    },
    {
      "cell_type": "code",
      "metadata": {
        "id": "8JL6IFW6XmG8",
        "colab_type": "code",
        "outputId": "fa9d1532-b85c-4a8b-c097-4b6db1a5e670",
        "colab": {
          "base_uri": "https://localhost:8080/",
          "height": 52
        }
      },
      "source": [
        "print(ipl.shape)\n",
        "print(ipl_new.shape)"
      ],
      "execution_count": 0,
      "outputs": [
        {
          "output_type": "stream",
          "text": [
            "(577, 19)\n",
            "(59, 19)\n"
          ],
          "name": "stdout"
        }
      ]
    },
    {
      "cell_type": "markdown",
      "metadata": {
        "id": "uu962oSRXmHC",
        "colab_type": "text"
      },
      "source": [
        "## **Appending DataFrame**\n",
        "- We need to append new matches data to the old data using append method"
      ]
    },
    {
      "cell_type": "code",
      "metadata": {
        "id": "iL33rGzkXmHE",
        "colab_type": "code",
        "outputId": "9ef0df7c-d686-4b5e-9423-e0e3f9b5fb3f",
        "colab": {
          "base_uri": "https://localhost:8080/",
          "height": 260
        }
      },
      "source": [
        "ipl_final = ipl.copy()             # Explicitly creating a copy of ipl. Just to make sure you don't modify your original data\n",
        "ipl_final = ipl_final.append(ipl_new)\n",
        "print(ipl_final)"
      ],
      "execution_count": 0,
      "outputs": [
        {
          "output_type": "stream",
          "text": [
            "   match_id  season        city  ... venue_id       umpire1         umpire2\n",
            "0    2008_1    2008   Bangalore  ...        7     Asad Rauf     RE Koertzen\n",
            "1    2008_2    2008  Chandigarh  ...        9     MR Benson      SL Shastri\n",
            "2    2008_3    2008       Delhi  ...        2     Aleem Dar  GA Pratapkumar\n",
            "3    2008_4    2008      Mumbai  ...        1      SJ Davis       DJ Harper\n",
            "4    2008_5    2008     Kolkata  ...        3     BF Bowden     K Hariharan\n",
            "..      ...     ...         ...  ...      ...           ...             ...\n",
            "54  2017_55    2017       Delhi  ...        2     CK Nandan   C Shamshuddin\n",
            "55  2017_56    2017      Mumbai  ...        1        S Ravi   C Shamshuddin\n",
            "56  2017_57    2017   Bangalore  ...        7  AK Chaudhary     Nitin Menon\n",
            "57  2017_58    2017   Bangalore  ...        7      NJ Llong     Nitin Menon\n",
            "58  2017_59    2017   Hyderabad  ...        4      NJ Llong          S Ravi\n",
            "\n",
            "[636 rows x 19 columns]\n"
          ],
          "name": "stdout"
        }
      ]
    },
    {
      "cell_type": "markdown",
      "metadata": {
        "id": "bb6uG-iuXmHJ",
        "colab_type": "text"
      },
      "source": [
        "## **Data Inspection**"
      ]
    },
    {
      "cell_type": "code",
      "metadata": {
        "id": "XL7qTaEyXmHK",
        "colab_type": "code",
        "outputId": "ecff672e-2cd9-4e09-cc03-fdd9f54f914d",
        "colab": {
          "base_uri": "https://localhost:8080/",
          "height": 34
        }
      },
      "source": [
        "## .shape gives dimentions of Data\n",
        "print(ipl_final.shape)                            # dim() in R - Dimentions of data"
      ],
      "execution_count": 0,
      "outputs": [
        {
          "output_type": "stream",
          "text": [
            "(636, 19)\n"
          ],
          "name": "stdout"
        }
      ]
    },
    {
      "cell_type": "code",
      "metadata": {
        "id": "cJU8UjMEXmHQ",
        "colab_type": "code",
        "outputId": "f02372e8-e673-447d-e277-3175bda02946",
        "colab": {
          "base_uri": "https://localhost:8080/",
          "height": 334
        }
      },
      "source": [
        "## Getting top 3 rows usig head method\n",
        "ipl_final.head(3)"
      ],
      "execution_count": 0,
      "outputs": [
        {
          "output_type": "execute_result",
          "data": {
            "text/html": [
              "<div>\n",
              "<style scoped>\n",
              "    .dataframe tbody tr th:only-of-type {\n",
              "        vertical-align: middle;\n",
              "    }\n",
              "\n",
              "    .dataframe tbody tr th {\n",
              "        vertical-align: top;\n",
              "    }\n",
              "\n",
              "    .dataframe thead th {\n",
              "        text-align: right;\n",
              "    }\n",
              "</style>\n",
              "<table border=\"1\" class=\"dataframe\">\n",
              "  <thead>\n",
              "    <tr style=\"text-align: right;\">\n",
              "      <th></th>\n",
              "      <th>season</th>\n",
              "      <th>city</th>\n",
              "      <th>date</th>\n",
              "      <th>team1_id</th>\n",
              "      <th>team2_id</th>\n",
              "      <th>toss_winner</th>\n",
              "      <th>toss_decision</th>\n",
              "      <th>result</th>\n",
              "      <th>dl_applied</th>\n",
              "      <th>winner</th>\n",
              "      <th>win_by_runs</th>\n",
              "      <th>win_by_wickets</th>\n",
              "      <th>player_of_match</th>\n",
              "      <th>player_of_match_id</th>\n",
              "      <th>venue</th>\n",
              "      <th>venue_id</th>\n",
              "      <th>umpire1</th>\n",
              "      <th>umpire2</th>\n",
              "    </tr>\n",
              "    <tr>\n",
              "      <th>match_id</th>\n",
              "      <th></th>\n",
              "      <th></th>\n",
              "      <th></th>\n",
              "      <th></th>\n",
              "      <th></th>\n",
              "      <th></th>\n",
              "      <th></th>\n",
              "      <th></th>\n",
              "      <th></th>\n",
              "      <th></th>\n",
              "      <th></th>\n",
              "      <th></th>\n",
              "      <th></th>\n",
              "      <th></th>\n",
              "      <th></th>\n",
              "      <th></th>\n",
              "      <th></th>\n",
              "      <th></th>\n",
              "    </tr>\n",
              "  </thead>\n",
              "  <tbody>\n",
              "    <tr>\n",
              "      <th>2008_1</th>\n",
              "      <td>2008</td>\n",
              "      <td>Bangalore</td>\n",
              "      <td>18-04-2008</td>\n",
              "      <td>KKR</td>\n",
              "      <td>RCB</td>\n",
              "      <td>RCB</td>\n",
              "      <td>field</td>\n",
              "      <td>normal</td>\n",
              "      <td>0</td>\n",
              "      <td>KKR</td>\n",
              "      <td>140</td>\n",
              "      <td>0</td>\n",
              "      <td>Brendon McCullum</td>\n",
              "      <td>82.0</td>\n",
              "      <td>M.Chinnaswamy Stadium Bengaluru, Karnataka</td>\n",
              "      <td>7</td>\n",
              "      <td>Asad Rauf</td>\n",
              "      <td>RE Koertzen</td>\n",
              "    </tr>\n",
              "    <tr>\n",
              "      <th>2008_2</th>\n",
              "      <td>2008</td>\n",
              "      <td>Chandigarh</td>\n",
              "      <td>19-04-2008</td>\n",
              "      <td>CSK</td>\n",
              "      <td>KXI</td>\n",
              "      <td>CSK</td>\n",
              "      <td>bat</td>\n",
              "      <td>normal</td>\n",
              "      <td>0</td>\n",
              "      <td>CSK</td>\n",
              "      <td>33</td>\n",
              "      <td>0</td>\n",
              "      <td>Michael Hussey</td>\n",
              "      <td>18.0</td>\n",
              "      <td>I.S. Bindra Punjab Cricket Association Stadium...</td>\n",
              "      <td>9</td>\n",
              "      <td>MR Benson</td>\n",
              "      <td>SL Shastri</td>\n",
              "    </tr>\n",
              "    <tr>\n",
              "      <th>2008_3</th>\n",
              "      <td>2008</td>\n",
              "      <td>Delhi</td>\n",
              "      <td>19-04-2008</td>\n",
              "      <td>RR</td>\n",
              "      <td>DD</td>\n",
              "      <td>RR</td>\n",
              "      <td>bat</td>\n",
              "      <td>normal</td>\n",
              "      <td>0</td>\n",
              "      <td>DD</td>\n",
              "      <td>0</td>\n",
              "      <td>9</td>\n",
              "      <td>Farveez Maharoof</td>\n",
              "      <td>60.0</td>\n",
              "      <td>Feroz Shah Kotla Stadium, Delhi</td>\n",
              "      <td>2</td>\n",
              "      <td>Aleem Dar</td>\n",
              "      <td>GA Pratapkumar</td>\n",
              "    </tr>\n",
              "  </tbody>\n",
              "</table>\n",
              "</div>"
            ],
            "text/plain": [
              "          season        city        date  ... venue_id    umpire1         umpire2\n",
              "match_id                                  ...                                    \n",
              "2008_1      2008   Bangalore  18-04-2008  ...        7  Asad Rauf     RE Koertzen\n",
              "2008_2      2008  Chandigarh  19-04-2008  ...        9  MR Benson      SL Shastri\n",
              "2008_3      2008       Delhi  19-04-2008  ...        2  Aleem Dar  GA Pratapkumar\n",
              "\n",
              "[3 rows x 18 columns]"
            ]
          },
          "metadata": {
            "tags": []
          },
          "execution_count": 21
        }
      ]
    },
    {
      "cell_type": "code",
      "metadata": {
        "id": "nJKhMgNPXmHV",
        "colab_type": "code",
        "outputId": "0ddf9e41-77bf-48fa-e8db-28affd42e72c",
        "colab": {
          "base_uri": "https://localhost:8080/",
          "height": 104
        }
      },
      "source": [
        "## .columns gives column names\n",
        "print(ipl_final.columns)                          # colnames() in R - Column Namesprint(list(df.index)[:10])"
      ],
      "execution_count": 0,
      "outputs": [
        {
          "output_type": "stream",
          "text": [
            "Index(['season', 'city', 'date', 'team1_id', 'team2_id', 'toss_winner',\n",
            "       'toss_decision', 'result', 'dl_applied', 'winner', 'win_by_runs',\n",
            "       'win_by_wickets', 'player_of_match', 'player_of_match_id', 'venue',\n",
            "       'venue_id', 'umpire1', 'umpire2'],\n",
            "      dtype='object')\n"
          ],
          "name": "stdout"
        }
      ]
    },
    {
      "cell_type": "code",
      "metadata": {
        "id": "cgPH06BjXmHb",
        "colab_type": "code",
        "outputId": "7b177520-e323-4bd3-8653-d14ec361c2d9",
        "colab": {
          "base_uri": "https://localhost:8080/",
          "height": 347
        }
      },
      "source": [
        "## .dtypes gives data types for each column\n",
        "print(ipl_final.dtypes)                           # str() in R - Data types"
      ],
      "execution_count": 0,
      "outputs": [
        {
          "output_type": "stream",
          "text": [
            "season                  int64\n",
            "city                   object\n",
            "date                   object\n",
            "team1_id               object\n",
            "team2_id               object\n",
            "toss_winner            object\n",
            "toss_decision          object\n",
            "result                 object\n",
            "dl_applied              int64\n",
            "winner                 object\n",
            "win_by_runs             int64\n",
            "win_by_wickets          int64\n",
            "player_of_match        object\n",
            "player_of_match_id    float64\n",
            "venue                  object\n",
            "venue_id                int64\n",
            "umpire1                object\n",
            "umpire2                object\n",
            "dtype: object\n"
          ],
          "name": "stdout"
        }
      ]
    },
    {
      "cell_type": "markdown",
      "metadata": {
        "id": "--N4cnWAXmHg",
        "colab_type": "text"
      },
      "source": [
        "<br><br>\n",
        "## **Seting match_id as row index** (rarely used)"
      ]
    },
    {
      "cell_type": "code",
      "metadata": {
        "id": "DeQwodDPXmHh",
        "colab_type": "code",
        "colab": {}
      },
      "source": [
        "ipl_final.set_index(['match_id'],inplace=True)\n",
        "ipl_final.head(3)"
      ],
      "execution_count": 0,
      "outputs": []
    },
    {
      "cell_type": "markdown",
      "metadata": {
        "id": "OfxumS4zXmHm",
        "colab_type": "text"
      },
      "source": [
        "## **Summary statistics**\n",
        "- using the describe method"
      ]
    },
    {
      "cell_type": "code",
      "metadata": {
        "id": "4VhDqUISXmHo",
        "colab_type": "code",
        "outputId": "e893a0bf-c369-44c2-d584-dc132afc91be",
        "colab": {
          "base_uri": "https://localhost:8080/",
          "height": 467
        }
      },
      "source": [
        "ipl.describe(include=\"all\")"
      ],
      "execution_count": 0,
      "outputs": [
        {
          "output_type": "execute_result",
          "data": {
            "text/html": [
              "<div>\n",
              "<style scoped>\n",
              "    .dataframe tbody tr th:only-of-type {\n",
              "        vertical-align: middle;\n",
              "    }\n",
              "\n",
              "    .dataframe tbody tr th {\n",
              "        vertical-align: top;\n",
              "    }\n",
              "\n",
              "    .dataframe thead th {\n",
              "        text-align: right;\n",
              "    }\n",
              "</style>\n",
              "<table border=\"1\" class=\"dataframe\">\n",
              "  <thead>\n",
              "    <tr style=\"text-align: right;\">\n",
              "      <th></th>\n",
              "      <th>match_id</th>\n",
              "      <th>season</th>\n",
              "      <th>city</th>\n",
              "      <th>date</th>\n",
              "      <th>team1_id</th>\n",
              "      <th>team2_id</th>\n",
              "      <th>toss_winner</th>\n",
              "      <th>toss_decision</th>\n",
              "      <th>result</th>\n",
              "      <th>dl_applied</th>\n",
              "      <th>winner</th>\n",
              "      <th>win_by_runs</th>\n",
              "      <th>win_by_wickets</th>\n",
              "      <th>player_of_match</th>\n",
              "      <th>player_of_match_id</th>\n",
              "      <th>venue</th>\n",
              "      <th>venue_id</th>\n",
              "      <th>umpire1</th>\n",
              "      <th>umpire2</th>\n",
              "    </tr>\n",
              "  </thead>\n",
              "  <tbody>\n",
              "    <tr>\n",
              "      <th>count</th>\n",
              "      <td>577</td>\n",
              "      <td>577.000000</td>\n",
              "      <td>570</td>\n",
              "      <td>577</td>\n",
              "      <td>577</td>\n",
              "      <td>577</td>\n",
              "      <td>577</td>\n",
              "      <td>577</td>\n",
              "      <td>577</td>\n",
              "      <td>577.000000</td>\n",
              "      <td>574</td>\n",
              "      <td>577.000000</td>\n",
              "      <td>577.000000</td>\n",
              "      <td>574</td>\n",
              "      <td>574.000000</td>\n",
              "      <td>577</td>\n",
              "      <td>577.000000</td>\n",
              "      <td>577</td>\n",
              "      <td>577</td>\n",
              "    </tr>\n",
              "    <tr>\n",
              "      <th>unique</th>\n",
              "      <td>577</td>\n",
              "      <td>NaN</td>\n",
              "      <td>30</td>\n",
              "      <td>407</td>\n",
              "      <td>13</td>\n",
              "      <td>13</td>\n",
              "      <td>13</td>\n",
              "      <td>2</td>\n",
              "      <td>3</td>\n",
              "      <td>NaN</td>\n",
              "      <td>13</td>\n",
              "      <td>NaN</td>\n",
              "      <td>NaN</td>\n",
              "      <td>187</td>\n",
              "      <td>NaN</td>\n",
              "      <td>34</td>\n",
              "      <td>NaN</td>\n",
              "      <td>42</td>\n",
              "      <td>44</td>\n",
              "    </tr>\n",
              "    <tr>\n",
              "      <th>top</th>\n",
              "      <td>2013_47</td>\n",
              "      <td>NaN</td>\n",
              "      <td>Mumbai</td>\n",
              "      <td>28-04-2013</td>\n",
              "      <td>CSK</td>\n",
              "      <td>RCB</td>\n",
              "      <td>MI</td>\n",
              "      <td>field</td>\n",
              "      <td>normal</td>\n",
              "      <td>NaN</td>\n",
              "      <td>MI</td>\n",
              "      <td>NaN</td>\n",
              "      <td>NaN</td>\n",
              "      <td>Chris Gayle</td>\n",
              "      <td>NaN</td>\n",
              "      <td>M.Chinnaswamy Stadium Bengaluru, Karnataka</td>\n",
              "      <td>NaN</td>\n",
              "      <td>HDPK Dharmasena</td>\n",
              "      <td>SJA Taufel</td>\n",
              "    </tr>\n",
              "    <tr>\n",
              "      <th>freq</th>\n",
              "      <td>1</td>\n",
              "      <td>NaN</td>\n",
              "      <td>77</td>\n",
              "      <td>2</td>\n",
              "      <td>77</td>\n",
              "      <td>77</td>\n",
              "      <td>74</td>\n",
              "      <td>315</td>\n",
              "      <td>568</td>\n",
              "      <td>NaN</td>\n",
              "      <td>80</td>\n",
              "      <td>NaN</td>\n",
              "      <td>NaN</td>\n",
              "      <td>17</td>\n",
              "      <td>NaN</td>\n",
              "      <td>58</td>\n",
              "      <td>NaN</td>\n",
              "      <td>73</td>\n",
              "      <td>54</td>\n",
              "    </tr>\n",
              "    <tr>\n",
              "      <th>mean</th>\n",
              "      <td>NaN</td>\n",
              "      <td>2012.029463</td>\n",
              "      <td>NaN</td>\n",
              "      <td>NaN</td>\n",
              "      <td>NaN</td>\n",
              "      <td>NaN</td>\n",
              "      <td>NaN</td>\n",
              "      <td>NaN</td>\n",
              "      <td>NaN</td>\n",
              "      <td>0.025997</td>\n",
              "      <td>NaN</td>\n",
              "      <td>13.715771</td>\n",
              "      <td>3.363951</td>\n",
              "      <td>NaN</td>\n",
              "      <td>187.937282</td>\n",
              "      <td>NaN</td>\n",
              "      <td>10.097054</td>\n",
              "      <td>NaN</td>\n",
              "      <td>NaN</td>\n",
              "    </tr>\n",
              "    <tr>\n",
              "      <th>std</th>\n",
              "      <td>NaN</td>\n",
              "      <td>2.486247</td>\n",
              "      <td>NaN</td>\n",
              "      <td>NaN</td>\n",
              "      <td>NaN</td>\n",
              "      <td>NaN</td>\n",
              "      <td>NaN</td>\n",
              "      <td>NaN</td>\n",
              "      <td>NaN</td>\n",
              "      <td>0.159263</td>\n",
              "      <td>NaN</td>\n",
              "      <td>23.619282</td>\n",
              "      <td>3.416049</td>\n",
              "      <td>NaN</td>\n",
              "      <td>163.146706</td>\n",
              "      <td>NaN</td>\n",
              "      <td>9.048535</td>\n",
              "      <td>NaN</td>\n",
              "      <td>NaN</td>\n",
              "    </tr>\n",
              "    <tr>\n",
              "      <th>min</th>\n",
              "      <td>NaN</td>\n",
              "      <td>2008.000000</td>\n",
              "      <td>NaN</td>\n",
              "      <td>NaN</td>\n",
              "      <td>NaN</td>\n",
              "      <td>NaN</td>\n",
              "      <td>NaN</td>\n",
              "      <td>NaN</td>\n",
              "      <td>NaN</td>\n",
              "      <td>0.000000</td>\n",
              "      <td>NaN</td>\n",
              "      <td>0.000000</td>\n",
              "      <td>0.000000</td>\n",
              "      <td>NaN</td>\n",
              "      <td>1.000000</td>\n",
              "      <td>NaN</td>\n",
              "      <td>1.000000</td>\n",
              "      <td>NaN</td>\n",
              "      <td>NaN</td>\n",
              "    </tr>\n",
              "    <tr>\n",
              "      <th>25%</th>\n",
              "      <td>NaN</td>\n",
              "      <td>2010.000000</td>\n",
              "      <td>NaN</td>\n",
              "      <td>NaN</td>\n",
              "      <td>NaN</td>\n",
              "      <td>NaN</td>\n",
              "      <td>NaN</td>\n",
              "      <td>NaN</td>\n",
              "      <td>NaN</td>\n",
              "      <td>0.000000</td>\n",
              "      <td>NaN</td>\n",
              "      <td>0.000000</td>\n",
              "      <td>0.000000</td>\n",
              "      <td>NaN</td>\n",
              "      <td>59.250000</td>\n",
              "      <td>NaN</td>\n",
              "      <td>3.000000</td>\n",
              "      <td>NaN</td>\n",
              "      <td>NaN</td>\n",
              "    </tr>\n",
              "    <tr>\n",
              "      <th>50%</th>\n",
              "      <td>NaN</td>\n",
              "      <td>2012.000000</td>\n",
              "      <td>NaN</td>\n",
              "      <td>NaN</td>\n",
              "      <td>NaN</td>\n",
              "      <td>NaN</td>\n",
              "      <td>NaN</td>\n",
              "      <td>NaN</td>\n",
              "      <td>NaN</td>\n",
              "      <td>0.000000</td>\n",
              "      <td>NaN</td>\n",
              "      <td>0.000000</td>\n",
              "      <td>3.000000</td>\n",
              "      <td>NaN</td>\n",
              "      <td>146.500000</td>\n",
              "      <td>NaN</td>\n",
              "      <td>7.000000</td>\n",
              "      <td>NaN</td>\n",
              "      <td>NaN</td>\n",
              "    </tr>\n",
              "    <tr>\n",
              "      <th>75%</th>\n",
              "      <td>NaN</td>\n",
              "      <td>2014.000000</td>\n",
              "      <td>NaN</td>\n",
              "      <td>NaN</td>\n",
              "      <td>NaN</td>\n",
              "      <td>NaN</td>\n",
              "      <td>NaN</td>\n",
              "      <td>NaN</td>\n",
              "      <td>NaN</td>\n",
              "      <td>0.000000</td>\n",
              "      <td>NaN</td>\n",
              "      <td>20.000000</td>\n",
              "      <td>6.000000</td>\n",
              "      <td>NaN</td>\n",
              "      <td>279.250000</td>\n",
              "      <td>NaN</td>\n",
              "      <td>14.000000</td>\n",
              "      <td>NaN</td>\n",
              "      <td>NaN</td>\n",
              "    </tr>\n",
              "    <tr>\n",
              "      <th>max</th>\n",
              "      <td>NaN</td>\n",
              "      <td>2016.000000</td>\n",
              "      <td>NaN</td>\n",
              "      <td>NaN</td>\n",
              "      <td>NaN</td>\n",
              "      <td>NaN</td>\n",
              "      <td>NaN</td>\n",
              "      <td>NaN</td>\n",
              "      <td>NaN</td>\n",
              "      <td>1.000000</td>\n",
              "      <td>NaN</td>\n",
              "      <td>144.000000</td>\n",
              "      <td>10.000000</td>\n",
              "      <td>NaN</td>\n",
              "      <td>691.000000</td>\n",
              "      <td>NaN</td>\n",
              "      <td>34.000000</td>\n",
              "      <td>NaN</td>\n",
              "      <td>NaN</td>\n",
              "    </tr>\n",
              "  </tbody>\n",
              "</table>\n",
              "</div>"
            ],
            "text/plain": [
              "       match_id       season    city  ...    venue_id          umpire1     umpire2\n",
              "count       577   577.000000     570  ...  577.000000              577         577\n",
              "unique      577          NaN      30  ...         NaN               42          44\n",
              "top     2013_47          NaN  Mumbai  ...         NaN  HDPK Dharmasena  SJA Taufel\n",
              "freq          1          NaN      77  ...         NaN               73          54\n",
              "mean        NaN  2012.029463     NaN  ...   10.097054              NaN         NaN\n",
              "std         NaN     2.486247     NaN  ...    9.048535              NaN         NaN\n",
              "min         NaN  2008.000000     NaN  ...    1.000000              NaN         NaN\n",
              "25%         NaN  2010.000000     NaN  ...    3.000000              NaN         NaN\n",
              "50%         NaN  2012.000000     NaN  ...    7.000000              NaN         NaN\n",
              "75%         NaN  2014.000000     NaN  ...   14.000000              NaN         NaN\n",
              "max         NaN  2016.000000     NaN  ...   34.000000              NaN         NaN\n",
              "\n",
              "[11 rows x 19 columns]"
            ]
          },
          "metadata": {
            "tags": []
          },
          "execution_count": 30
        }
      ]
    },
    {
      "cell_type": "markdown",
      "metadata": {
        "id": "6UzSfpusXmHs",
        "colab_type": "text"
      },
      "source": [
        "## **Dropping columns**\n",
        "- using the drop method"
      ]
    },
    {
      "cell_type": "code",
      "metadata": {
        "id": "nvdD3FxXXmHs",
        "colab_type": "code",
        "colab": {}
      },
      "source": [
        "# Dropping Column\n",
        "ipl_final.drop(['match_id'], axis=1, inplace=True)    # Axis = 1 for columns\n",
        "\n",
        "ipl.head(3)"
      ],
      "execution_count": 0,
      "outputs": []
    },
    {
      "cell_type": "markdown",
      "metadata": {
        "id": "syDDwDNUXmHx",
        "colab_type": "text"
      },
      "source": [
        "## **Dropping row**"
      ]
    },
    {
      "cell_type": "code",
      "metadata": {
        "id": "fUL3LM9wXmHz",
        "colab_type": "code",
        "colab": {}
      },
      "source": [
        "# Dropping rows\n",
        "ipl_final.drop(['2008_1','2009_1','2010_1'], axis=0, inplace=True)  # axis = 0 for rows and axis=1 for columns\n",
        "\n",
        "ipl.head(3)"
      ],
      "execution_count": 0,
      "outputs": []
    },
    {
      "cell_type": "markdown",
      "metadata": {
        "id": "HiemFwIUXmH2",
        "colab_type": "text"
      },
      "source": [
        "## **Frequency distribution**\n",
        "- using method value_counts for getting the distribution of values for categories"
      ]
    },
    {
      "cell_type": "code",
      "metadata": {
        "id": "99KMTaagXmH5",
        "colab_type": "code",
        "outputId": "ecc28cf7-ec0b-43a2-ad50-0d347bf9359c",
        "colab": {
          "base_uri": "https://localhost:8080/",
          "height": 208
        }
      },
      "source": [
        "ipl_final['season'].value_counts()       # table() in R - Frequency count"
      ],
      "execution_count": 41,
      "outputs": [
        {
          "output_type": "execute_result",
          "data": {
            "text/plain": [
              "2013    76\n",
              "2012    74\n",
              "2011    73\n",
              "2016    60\n",
              "2014    60\n",
              "2017    59\n",
              "2015    59\n",
              "2010    59\n",
              "2008    57\n",
              "2009    56\n",
              "Name: season, dtype: int64"
            ]
          },
          "metadata": {
            "tags": []
          },
          "execution_count": 41
        }
      ]
    },
    {
      "cell_type": "markdown",
      "metadata": {
        "id": "9SKLhx3rXmH8",
        "colab_type": "text"
      },
      "source": [
        "## **loc (to subset data by Row/Column labels)**"
      ]
    },
    {
      "cell_type": "code",
      "metadata": {
        "id": "E61HSN6UXmH9",
        "colab_type": "code",
        "outputId": "2f4c4bdc-b272-4860-8b80-096aad14610c",
        "colab": {}
      },
      "source": [
        "## Label based indexing make more sense for column subsetting\n",
        "#Select only venue and winner columns\n",
        "subset1 = ipl_final.loc[:,['venue','winner']]\n",
        "subset1.head(3)"
      ],
      "execution_count": 0,
      "outputs": [
        {
          "output_type": "execute_result",
          "data": {
            "text/html": [
              "<div>\n",
              "<style scoped>\n",
              "    .dataframe tbody tr th:only-of-type {\n",
              "        vertical-align: middle;\n",
              "    }\n",
              "\n",
              "    .dataframe tbody tr th {\n",
              "        vertical-align: top;\n",
              "    }\n",
              "\n",
              "    .dataframe thead th {\n",
              "        text-align: right;\n",
              "    }\n",
              "</style>\n",
              "<table border=\"1\" class=\"dataframe\">\n",
              "  <thead>\n",
              "    <tr style=\"text-align: right;\">\n",
              "      <th></th>\n",
              "      <th>venue</th>\n",
              "      <th>winner</th>\n",
              "    </tr>\n",
              "    <tr>\n",
              "      <th>match_id</th>\n",
              "      <th></th>\n",
              "      <th></th>\n",
              "    </tr>\n",
              "  </thead>\n",
              "  <tbody>\n",
              "    <tr>\n",
              "      <th>2008_2</th>\n",
              "      <td>I.S. Bindra Punjab Cricket Association Stadium...</td>\n",
              "      <td>CSK</td>\n",
              "    </tr>\n",
              "    <tr>\n",
              "      <th>2008_3</th>\n",
              "      <td>Feroz Shah Kotla Stadium, Delhi</td>\n",
              "      <td>DD</td>\n",
              "    </tr>\n",
              "    <tr>\n",
              "      <th>2008_4</th>\n",
              "      <td>Wankhede Stadium, Mumbai, Maharashtra</td>\n",
              "      <td>RCB</td>\n",
              "    </tr>\n",
              "  </tbody>\n",
              "</table>\n",
              "</div>"
            ],
            "text/plain": [
              "                                                      venue winner\n",
              "match_id                                                          \n",
              "2008_2    I.S. Bindra Punjab Cricket Association Stadium...    CSK\n",
              "2008_3                      Feroz Shah Kotla Stadium, Delhi     DD\n",
              "2008_4                Wankhede Stadium, Mumbai, Maharashtra    RCB"
            ]
          },
          "metadata": {
            "tags": []
          },
          "execution_count": 14
        }
      ]
    },
    {
      "cell_type": "code",
      "metadata": {
        "id": "PrlxJ1YvXmIB",
        "colab_type": "code",
        "outputId": "4a0528e1-a944-46d7-bede-da5481d30224",
        "colab": {}
      },
      "source": [
        "## For loc based subsetting using row and column indexer together is rare.\n",
        "subset2 = ipl_final.loc[['2008_2','2009_2','2010_2',],['venue','winner']]\n",
        "subset2.head(3)"
      ],
      "execution_count": 0,
      "outputs": [
        {
          "output_type": "execute_result",
          "data": {
            "text/html": [
              "<div>\n",
              "<style scoped>\n",
              "    .dataframe tbody tr th:only-of-type {\n",
              "        vertical-align: middle;\n",
              "    }\n",
              "\n",
              "    .dataframe tbody tr th {\n",
              "        vertical-align: top;\n",
              "    }\n",
              "\n",
              "    .dataframe thead th {\n",
              "        text-align: right;\n",
              "    }\n",
              "</style>\n",
              "<table border=\"1\" class=\"dataframe\">\n",
              "  <thead>\n",
              "    <tr style=\"text-align: right;\">\n",
              "      <th></th>\n",
              "      <th>venue</th>\n",
              "      <th>winner</th>\n",
              "    </tr>\n",
              "    <tr>\n",
              "      <th>match_id</th>\n",
              "      <th></th>\n",
              "      <th></th>\n",
              "    </tr>\n",
              "  </thead>\n",
              "  <tbody>\n",
              "    <tr>\n",
              "      <th>2008_2</th>\n",
              "      <td>I.S. Bindra Punjab Cricket Association Stadium...</td>\n",
              "      <td>CSK</td>\n",
              "    </tr>\n",
              "    <tr>\n",
              "      <th>2009_2</th>\n",
              "      <td>Newlands</td>\n",
              "      <td>RCB</td>\n",
              "    </tr>\n",
              "    <tr>\n",
              "      <th>2010_2</th>\n",
              "      <td>Brabourne Stadium</td>\n",
              "      <td>MI</td>\n",
              "    </tr>\n",
              "  </tbody>\n",
              "</table>\n",
              "</div>"
            ],
            "text/plain": [
              "                                                      venue winner\n",
              "match_id                                                          \n",
              "2008_2    I.S. Bindra Punjab Cricket Association Stadium...    CSK\n",
              "2009_2                                             Newlands    RCB\n",
              "2010_2                                    Brabourne Stadium     MI"
            ]
          },
          "metadata": {
            "tags": []
          },
          "execution_count": 15
        }
      ]
    },
    {
      "cell_type": "markdown",
      "metadata": {
        "id": "Dx1sE6WEXmIF",
        "colab_type": "text"
      },
      "source": [
        "## **iloc    (to subset data based on Row/Column number)**"
      ]
    },
    {
      "cell_type": "code",
      "metadata": {
        "id": "0hlUQ068XmIG",
        "colab_type": "code",
        "outputId": "02da0c7f-f356-4575-9e00-6efb08491670",
        "colab": {}
      },
      "source": [
        "## Numeric based indexing usually makes sense for row subsetting \n",
        "ipl.iloc[50:53,1:5]"
      ],
      "execution_count": 0,
      "outputs": [
        {
          "output_type": "execute_result",
          "data": {
            "text/html": [
              "<div>\n",
              "<style scoped>\n",
              "    .dataframe tbody tr th:only-of-type {\n",
              "        vertical-align: middle;\n",
              "    }\n",
              "\n",
              "    .dataframe tbody tr th {\n",
              "        vertical-align: top;\n",
              "    }\n",
              "\n",
              "    .dataframe thead th {\n",
              "        text-align: right;\n",
              "    }\n",
              "</style>\n",
              "<table border=\"1\" class=\"dataframe\">\n",
              "  <thead>\n",
              "    <tr style=\"text-align: right;\">\n",
              "      <th></th>\n",
              "      <th>season</th>\n",
              "      <th>city</th>\n",
              "      <th>date</th>\n",
              "      <th>team1_id</th>\n",
              "    </tr>\n",
              "  </thead>\n",
              "  <tbody>\n",
              "    <tr>\n",
              "      <th>50</th>\n",
              "      <td>2008</td>\n",
              "      <td>Chennai</td>\n",
              "      <td>24-05-2008</td>\n",
              "      <td>RR</td>\n",
              "    </tr>\n",
              "    <tr>\n",
              "      <th>51</th>\n",
              "      <td>2008</td>\n",
              "      <td>Bangalore</td>\n",
              "      <td>03-05-2008</td>\n",
              "      <td>RCB</td>\n",
              "    </tr>\n",
              "    <tr>\n",
              "      <th>52</th>\n",
              "      <td>2008</td>\n",
              "      <td>Kolkata</td>\n",
              "      <td>25-05-2008</td>\n",
              "      <td>KXI</td>\n",
              "    </tr>\n",
              "  </tbody>\n",
              "</table>\n",
              "</div>"
            ],
            "text/plain": [
              "    season       city        date team1_id\n",
              "50    2008    Chennai  24-05-2008       RR\n",
              "51    2008  Bangalore  03-05-2008      RCB\n",
              "52    2008    Kolkata  25-05-2008      KXI"
            ]
          },
          "metadata": {
            "tags": []
          },
          "execution_count": 16
        }
      ]
    },
    {
      "cell_type": "markdown",
      "metadata": {
        "id": "OVE1Ue3jXmIK",
        "colab_type": "text"
      },
      "source": [
        "## **Boolean indexing (to subset based on value in each cell of the column )**\n",
        "**Here we subsetting the data where the cell value in \"City\" column is equal to \"Hyderabad\"**"
      ]
    },
    {
      "cell_type": "code",
      "metadata": {
        "id": "BXRTXKgcXmIL",
        "colab_type": "code",
        "outputId": "e8f33a46-fa31-45bd-89eb-73b32222f796",
        "colab": {}
      },
      "source": [
        "subset3 = ipl.loc[ipl['city']=='Hyderabad',:]\n",
        "subset3.head(3)"
      ],
      "execution_count": 0,
      "outputs": [
        {
          "output_type": "execute_result",
          "data": {
            "text/html": [
              "<div>\n",
              "<style scoped>\n",
              "    .dataframe tbody tr th:only-of-type {\n",
              "        vertical-align: middle;\n",
              "    }\n",
              "\n",
              "    .dataframe tbody tr th {\n",
              "        vertical-align: top;\n",
              "    }\n",
              "\n",
              "    .dataframe thead th {\n",
              "        text-align: right;\n",
              "    }\n",
              "</style>\n",
              "<table border=\"1\" class=\"dataframe\">\n",
              "  <thead>\n",
              "    <tr style=\"text-align: right;\">\n",
              "      <th></th>\n",
              "      <th>match_id</th>\n",
              "      <th>season</th>\n",
              "      <th>city</th>\n",
              "      <th>date</th>\n",
              "      <th>team1_id</th>\n",
              "      <th>team2_id</th>\n",
              "      <th>toss_winner</th>\n",
              "      <th>toss_decision</th>\n",
              "      <th>result</th>\n",
              "      <th>dl_applied</th>\n",
              "      <th>winner</th>\n",
              "      <th>win_by_runs</th>\n",
              "      <th>win_by_wickets</th>\n",
              "      <th>player_of_match</th>\n",
              "      <th>player_of_match_id</th>\n",
              "      <th>venue</th>\n",
              "      <th>venue_id</th>\n",
              "      <th>umpire1</th>\n",
              "      <th>umpire2</th>\n",
              "    </tr>\n",
              "  </thead>\n",
              "  <tbody>\n",
              "    <tr>\n",
              "      <th>6</th>\n",
              "      <td>2008_7</td>\n",
              "      <td>2008</td>\n",
              "      <td>Hyderabad</td>\n",
              "      <td>22-04-2008</td>\n",
              "      <td>DC</td>\n",
              "      <td>DD</td>\n",
              "      <td>DC</td>\n",
              "      <td>bat</td>\n",
              "      <td>normal</td>\n",
              "      <td>0</td>\n",
              "      <td>DD</td>\n",
              "      <td>0</td>\n",
              "      <td>9</td>\n",
              "      <td>Virender Sehwag</td>\n",
              "      <td>46.0</td>\n",
              "      <td>Rajiv Gandhi International Stadium, Hyderabad</td>\n",
              "      <td>4</td>\n",
              "      <td>IL Howell</td>\n",
              "      <td>AM Saheba</td>\n",
              "    </tr>\n",
              "    <tr>\n",
              "      <th>8</th>\n",
              "      <td>2008_9</td>\n",
              "      <td>2008</td>\n",
              "      <td>Hyderabad</td>\n",
              "      <td>24-04-2008</td>\n",
              "      <td>DC</td>\n",
              "      <td>RR</td>\n",
              "      <td>RR</td>\n",
              "      <td>field</td>\n",
              "      <td>normal</td>\n",
              "      <td>0</td>\n",
              "      <td>RR</td>\n",
              "      <td>0</td>\n",
              "      <td>3</td>\n",
              "      <td>Yusuf Pathan</td>\n",
              "      <td>171.0</td>\n",
              "      <td>Rajiv Gandhi International Stadium, Hyderabad</td>\n",
              "      <td>4</td>\n",
              "      <td>Asad Rauf</td>\n",
              "      <td>MR Benson</td>\n",
              "    </tr>\n",
              "    <tr>\n",
              "      <th>17</th>\n",
              "      <td>2008_18</td>\n",
              "      <td>2008</td>\n",
              "      <td>Hyderabad</td>\n",
              "      <td>01-05-2008</td>\n",
              "      <td>DC</td>\n",
              "      <td>KXI</td>\n",
              "      <td>KXI</td>\n",
              "      <td>field</td>\n",
              "      <td>normal</td>\n",
              "      <td>0</td>\n",
              "      <td>KXI</td>\n",
              "      <td>0</td>\n",
              "      <td>7</td>\n",
              "      <td>Shaun Marsh</td>\n",
              "      <td>106.0</td>\n",
              "      <td>Rajiv Gandhi International Stadium, Hyderabad</td>\n",
              "      <td>4</td>\n",
              "      <td>BR Doctrove</td>\n",
              "      <td>RB Tiffin</td>\n",
              "    </tr>\n",
              "  </tbody>\n",
              "</table>\n",
              "</div>"
            ],
            "text/plain": [
              "   match_id  season       city        date team1_id team2_id toss_winner  \\\n",
              "6    2008_7    2008  Hyderabad  22-04-2008       DC       DD          DC   \n",
              "8    2008_9    2008  Hyderabad  24-04-2008       DC       RR          RR   \n",
              "17  2008_18    2008  Hyderabad  01-05-2008       DC      KXI         KXI   \n",
              "\n",
              "   toss_decision  result  dl_applied winner  win_by_runs  win_by_wickets  \\\n",
              "6            bat  normal           0     DD            0               9   \n",
              "8          field  normal           0     RR            0               3   \n",
              "17         field  normal           0    KXI            0               7   \n",
              "\n",
              "    player_of_match  player_of_match_id  \\\n",
              "6   Virender Sehwag                46.0   \n",
              "8      Yusuf Pathan               171.0   \n",
              "17      Shaun Marsh               106.0   \n",
              "\n",
              "                                            venue  venue_id      umpire1  \\\n",
              "6   Rajiv Gandhi International Stadium, Hyderabad         4    IL Howell   \n",
              "8   Rajiv Gandhi International Stadium, Hyderabad         4    Asad Rauf   \n",
              "17  Rajiv Gandhi International Stadium, Hyderabad         4  BR Doctrove   \n",
              "\n",
              "      umpire2  \n",
              "6   AM Saheba  \n",
              "8   MR Benson  \n",
              "17  RB Tiffin  "
            ]
          },
          "metadata": {
            "tags": []
          },
          "execution_count": 17
        }
      ]
    },
    {
      "cell_type": "markdown",
      "metadata": {
        "id": "ZGJRHoPIXmIO",
        "colab_type": "text"
      },
      "source": [
        "## **Piping of functions (for multiple criteria subsetting)**"
      ]
    },
    {
      "cell_type": "markdown",
      "metadata": {
        "id": "vyLTT5KHXmIO",
        "colab_type": "text"
      },
      "source": [
        "**Basically output of first function is taken as input for the next function**\n",
        "#### **Note - We are using a relational operator inside the first function to get a boolean vector (equal to the number of rows we have). Where the value will be True only if the \"city\" column is \"Hyderabad\"**"
      ]
    },
    {
      "cell_type": "code",
      "metadata": {
        "id": "jy9nQcvOXmIQ",
        "colab_type": "code",
        "outputId": "2d5d801e-8411-4c10-8565-530ccab3a5bb",
        "colab": {}
      },
      "source": [
        "subset4 = ipl.loc[ipl['city']=='Chennai',:].loc[ipl['winner']=='CSK',:].loc[:,['team1_id','team2_id','winner','city']]\n",
        "\n",
        "## This line achieves the same purpose as above\n",
        "# subset4 = ipl.loc[(ipl['city']=='Chennai') & (ipl['winner']=='CSK'),:].loc[:,['team1_id','team2_id','winner','city']]\n",
        "\n",
        "subset4.head(3)"
      ],
      "execution_count": 0,
      "outputs": [
        {
          "output_type": "execute_result",
          "data": {
            "text/html": [
              "<div>\n",
              "<style scoped>\n",
              "    .dataframe tbody tr th:only-of-type {\n",
              "        vertical-align: middle;\n",
              "    }\n",
              "\n",
              "    .dataframe tbody tr th {\n",
              "        vertical-align: top;\n",
              "    }\n",
              "\n",
              "    .dataframe thead th {\n",
              "        text-align: right;\n",
              "    }\n",
              "</style>\n",
              "<table border=\"1\" class=\"dataframe\">\n",
              "  <thead>\n",
              "    <tr style=\"text-align: right;\">\n",
              "      <th></th>\n",
              "      <th>team1_id</th>\n",
              "      <th>team2_id</th>\n",
              "      <th>winner</th>\n",
              "      <th>city</th>\n",
              "    </tr>\n",
              "  </thead>\n",
              "  <tbody>\n",
              "    <tr>\n",
              "      <th>7</th>\n",
              "      <td>CSK</td>\n",
              "      <td>MI</td>\n",
              "      <td>CSK</td>\n",
              "      <td>Chennai</td>\n",
              "    </tr>\n",
              "    <tr>\n",
              "      <th>11</th>\n",
              "      <td>KKR</td>\n",
              "      <td>CSK</td>\n",
              "      <td>CSK</td>\n",
              "      <td>Chennai</td>\n",
              "    </tr>\n",
              "    <tr>\n",
              "      <th>31</th>\n",
              "      <td>CSK</td>\n",
              "      <td>KXI</td>\n",
              "      <td>CSK</td>\n",
              "      <td>Chennai</td>\n",
              "    </tr>\n",
              "  </tbody>\n",
              "</table>\n",
              "</div>"
            ],
            "text/plain": [
              "   team1_id team2_id winner     city\n",
              "7       CSK       MI    CSK  Chennai\n",
              "11      KKR      CSK    CSK  Chennai\n",
              "31      CSK      KXI    CSK  Chennai"
            ]
          },
          "metadata": {
            "tags": []
          },
          "execution_count": 18
        }
      ]
    },
    {
      "cell_type": "markdown",
      "metadata": {
        "id": "7rzO2uwSXmIU",
        "colab_type": "text"
      },
      "source": [
        "### **Note**\n",
        "1. In the first command we have used 3 subsetting logics in a single line\n",
        "2. This can be alternatively done by chaining conditions using logical operations (&)\n",
        "3. **You may realize that sometimes giving single indexer (either row or column) works. However it may not be a consistent behaviour and its a good programming practive to specify both the indexers explicitly (row and column) as it makes the code more readable later on.**"
      ]
    },
    {
      "cell_type": "markdown",
      "metadata": {
        "id": "k8C_qL9KXmIV",
        "colab_type": "text"
      },
      "source": [
        "## **Replace specific values**"
      ]
    },
    {
      "cell_type": "code",
      "metadata": {
        "id": "bERiESu6XmIW",
        "colab_type": "code",
        "outputId": "a4a73305-0e4f-47c3-f015-8b29e7cf13bb",
        "colab": {}
      },
      "source": [
        "ipl['winner'].value_counts()"
      ],
      "execution_count": 0,
      "outputs": [
        {
          "output_type": "execute_result",
          "data": {
            "text/plain": [
              "MI     80\n",
              "CSK    79\n",
              "RCB    70\n",
              "KKR    68\n",
              "RR     63\n",
              "KXI    63\n",
              "DD     56\n",
              "SRH    34\n",
              "DC     29\n",
              "PW     12\n",
              "GL      9\n",
              "KTK     6\n",
              "RPS     5\n",
              "Name: winner, dtype: int64"
            ]
          },
          "metadata": {
            "tags": []
          },
          "execution_count": 19
        }
      ]
    },
    {
      "cell_type": "code",
      "metadata": {
        "id": "9Xm_bVWXXmIZ",
        "colab_type": "code",
        "outputId": "d92ad38b-ad18-453a-db28-063b82787a94",
        "colab": {}
      },
      "source": [
        "# Lets replace DC with SRH\n",
        "ipl_updated=ipl_final.replace({'DC':'SRH'}, inplace=False)\n",
        "\n",
        "ipl_updated['winner'].value_counts()"
      ],
      "execution_count": 0,
      "outputs": [
        {
          "output_type": "execute_result",
          "data": {
            "text/plain": [
              "MI     91\n",
              "CSK    79\n",
              "KKR    75\n",
              "RCB    73\n",
              "SRH    71\n",
              "KXI    70\n",
              "RR     63\n",
              "DD     62\n",
              "RPS    15\n",
              "GL     13\n",
              "PW     12\n",
              "KTK     6\n",
              "Name: winner, dtype: int64"
            ]
          },
          "metadata": {
            "tags": []
          },
          "execution_count": 20
        }
      ]
    },
    {
      "cell_type": "markdown",
      "metadata": {
        "collapsed": true,
        "id": "QNjvPe-hXmId",
        "colab_type": "text"
      },
      "source": [
        "## **Activity**\n",
        "**What matches are played on 2008-04-20 and who is the winner?**"
      ]
    },
    {
      "cell_type": "code",
      "metadata": {
        "id": "9QZb05omXmIe",
        "colab_type": "code",
        "outputId": "56f69c4d-b94b-4b42-ee03-682c0c32eaf8",
        "colab": {
          "base_uri": "https://localhost:8080/",
          "height": 112
        }
      },
      "source": [
        "ipl.loc[ipl['date']=='20-04-2008',:].loc[:,['winner']]"
      ],
      "execution_count": 0,
      "outputs": [
        {
          "output_type": "execute_result",
          "data": {
            "text/html": [
              "<div>\n",
              "<style scoped>\n",
              "    .dataframe tbody tr th:only-of-type {\n",
              "        vertical-align: middle;\n",
              "    }\n",
              "\n",
              "    .dataframe tbody tr th {\n",
              "        vertical-align: top;\n",
              "    }\n",
              "\n",
              "    .dataframe thead th {\n",
              "        text-align: right;\n",
              "    }\n",
              "</style>\n",
              "<table border=\"1\" class=\"dataframe\">\n",
              "  <thead>\n",
              "    <tr style=\"text-align: right;\">\n",
              "      <th></th>\n",
              "      <th>winner</th>\n",
              "    </tr>\n",
              "  </thead>\n",
              "  <tbody>\n",
              "    <tr>\n",
              "      <th>3</th>\n",
              "      <td>RCB</td>\n",
              "    </tr>\n",
              "    <tr>\n",
              "      <th>4</th>\n",
              "      <td>KKR</td>\n",
              "    </tr>\n",
              "  </tbody>\n",
              "</table>\n",
              "</div>"
            ],
            "text/plain": [
              "  winner\n",
              "3    RCB\n",
              "4    KKR"
            ]
          },
          "metadata": {
            "tags": []
          },
          "execution_count": 14
        }
      ]
    },
    {
      "cell_type": "markdown",
      "metadata": {
        "id": "E_TcyeGPXmIh",
        "colab_type": "text"
      },
      "source": [
        "---\n",
        "## *<center>End</center>*"
      ]
    }
  ]
}