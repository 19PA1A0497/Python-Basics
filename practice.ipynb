{
  "nbformat": 4,
  "nbformat_minor": 0,
  "metadata": {
    "colab": {
      "name": "Untitled1.ipynb",
      "provenance": [],
      "authorship_tag": "ABX9TyNiafY/j/tPHsmQWMQCiM2t",
      "include_colab_link": true
    },
    "kernelspec": {
      "name": "python3",
      "display_name": "Python 3"
    }
  },
  "cells": [
    {
      "cell_type": "markdown",
      "metadata": {
        "id": "view-in-github",
        "colab_type": "text"
      },
      "source": [
        "<a href=\"https://colab.research.google.com/github/19PA1A0497/Python-Basics/blob/master/practice.ipynb\" target=\"_parent\"><img src=\"https://colab.research.google.com/assets/colab-badge.svg\" alt=\"Open In Colab\"/></a>"
      ]
    },
    {
      "cell_type": "code",
      "metadata": {
        "id": "tbEYZhYXajBk",
        "colab_type": "code",
        "colab": {
          "base_uri": "https://localhost:8080/",
          "height": 493
        },
        "outputId": "25c66237-7830-48d8-d178-4ba3511ca89f"
      },
      "source": [
        "import numpy as np\n",
        "a=np.arange(15).reshape(3,5)\n",
        "a.shape\n",
        "a.ndim\n",
        "a.dtype\n",
        "a.itemsize\n",
        "a.size\n",
        "type(a)\n",
        "np.zeros((3,5))\n",
        "np.ones((2,3),dtype=np.int16)\n",
        "np.empty((2,3))\n",
        "np.eye(3)\n",
        "np.full((2,2),7)\n",
        "np.random.random((2,3))\n",
        "np.ones((2,3),dtype=np.int32)\n",
        "a=np.array([20,30,40,50])\n",
        "b=np.arange(4)\n",
        "c=a-b\n",
        "print(c)\n",
        "print(b**2)\n",
        "print(10*np.sin(a))\n",
        "print(a<35)\n",
        "a[0]+=10\n",
        "print(a)\n",
        "A=np.array([[1,1],[2,3]])\n",
        "B=np.array([[2,2],[1,2]])\n",
        "print(A*B)\n",
        "print(A@B)\n",
        "print(A.dot(B))\n",
        "print(np.dot(A,B))\n",
        "b=np.arange(12).reshape(4,3)\n",
        "int(b)\n",
        "print(b.sum())\n",
        "print(b.sum(axis=0))\n",
        "print(b.sum(axis=1))\n",
        "print(b.cumsum(axis=0))\n",
        "print(b.cumsum(axis=1))\n",
        "\n"
      ],
      "execution_count": 37,
      "outputs": [
        {
          "output_type": "stream",
          "text": [
            "[20 29 38 47]\n",
            "[0 1 4 9]\n",
            "[ 9.12945251 -9.88031624  7.4511316  -2.62374854]\n",
            "[ True  True False False]\n",
            "[30 30 40 50]\n",
            "[[2 2]\n",
            " [2 6]]\n",
            "[[ 3  4]\n",
            " [ 7 10]]\n",
            "[[ 3  4]\n",
            " [ 7 10]]\n",
            "[[ 3  4]\n",
            " [ 7 10]]\n",
            "[[ 0  1  2]\n",
            " [ 3  4  5]\n",
            " [ 6  7  8]\n",
            " [ 9 10 11]]\n",
            "66\n",
            "[18 22 26]\n",
            "[ 3 12 21 30]\n",
            "[[ 0  1  2]\n",
            " [ 3  5  7]\n",
            " [ 9 12 15]\n",
            " [18 22 26]]\n",
            "[[ 0  1  3]\n",
            " [ 3  7 12]\n",
            " [ 6 13 21]\n",
            " [ 9 19 30]]\n"
          ],
          "name": "stdout"
        }
      ]
    },
    {
      "cell_type": "code",
      "metadata": {
        "id": "VMW7eiPcn0Zv",
        "colab_type": "code",
        "colab": {}
      },
      "source": [
        ""
      ],
      "execution_count": 0,
      "outputs": []
    },
    {
      "cell_type": "code",
      "metadata": {
        "id": "FJrk3FFHeIvr",
        "colab_type": "code",
        "colab": {
          "base_uri": "https://localhost:8080/",
          "height": 85
        },
        "outputId": "8bf03d71-5d97-4241-ae79-f66697be0e4a"
      },
      "source": [
        "import numpy as np\n",
        "a=np.arange(5)\n",
        "b=np.random.random(5)\n",
        "print(np.add(a,b))\n",
        "print(np.multiply(a,b))\n",
        "print(np.subtract(a,b))\n",
        "print(np.divide(a,b))\n"
      ],
      "execution_count": 39,
      "outputs": [
        {
          "output_type": "stream",
          "text": [
            "[0.628057   1.681438   2.12796728 3.1106129  4.34007912]\n",
            "[0.         0.681438   0.25593456 0.33183869 1.3603165 ]\n",
            "[-0.628057    0.318562    1.87203272  2.8893871   3.65992088]\n",
            "[ 0.          1.46748494 15.62899542 27.12161105 11.76196865]\n"
          ],
          "name": "stdout"
        }
      ]
    },
    {
      "cell_type": "code",
      "metadata": {
        "id": "3b8Z_8mjo2JE",
        "colab_type": "code",
        "colab": {
          "base_uri": "https://localhost:8080/",
          "height": 170
        },
        "outputId": "99003787-cced-47d3-a792-635a6ea8a366"
      },
      "source": [
        "import numpy as np\n",
        "a=np.arange(10)**3\n",
        "print(a)\n",
        "print(a[2])\n",
        "print(a[2:3])\n",
        "print(a[2:45])\n",
        "b=np.arange(12).reshape(4,3)**2\n",
        "print(b[1:3])\n",
        "print(b[1:3,1:2])\n",
        "print(b[:,2])"
      ],
      "execution_count": 43,
      "outputs": [
        {
          "output_type": "stream",
          "text": [
            "[  0   1   8  27  64 125 216 343 512 729]\n",
            "8\n",
            "[8]\n",
            "[  8  27  64 125 216 343 512 729]\n",
            "[[ 9 16 25]\n",
            " [36 49 64]]\n",
            "[[16]\n",
            " [49]]\n",
            "[  4  25  64 121]\n"
          ],
          "name": "stdout"
        }
      ]
    },
    {
      "cell_type": "code",
      "metadata": {
        "id": "E9a6IsvnrEyx",
        "colab_type": "code",
        "colab": {
          "base_uri": "https://localhost:8080/",
          "height": 68
        },
        "outputId": "151c096c-572e-4c35-aa58-dbb2cf15a370"
      },
      "source": [
        "import numpy as np\n",
        "a=np.array([[1,2,3],[4,5,6],[7,8,9]])\n",
        "a\n",
        "b=a[:1,:1]\n",
        "b[0]=12\n",
        "a\n",
        "b=np.arange(3)\n",
        "b\n",
        "a[np.arange(3),b]+=3\n",
        "a"
      ],
      "execution_count": 53,
      "outputs": [
        {
          "output_type": "execute_result",
          "data": {
            "text/plain": [
              "array([[15,  2,  3],\n",
              "       [ 4,  8,  6],\n",
              "       [ 7,  8, 12]])"
            ]
          },
          "metadata": {
            "tags": []
          },
          "execution_count": 53
        }
      ]
    },
    {
      "cell_type": "code",
      "metadata": {
        "id": "XhrYnFuMujN9",
        "colab_type": "code",
        "colab": {
          "base_uri": "https://localhost:8080/",
          "height": 289
        },
        "outputId": "eba1713b-b2f4-432d-de70-cdf33b7e4034"
      },
      "source": [
        "a=np.arange(12).reshape(4,3)**2\n",
        "for i in a:\n",
        "  print(i)\n",
        "for i in a.flat:\n",
        "  print(i)"
      ],
      "execution_count": 56,
      "outputs": [
        {
          "output_type": "stream",
          "text": [
            "[0 1 4]\n",
            "[ 9 16 25]\n",
            "[36 49 64]\n",
            "[ 81 100 121]\n",
            "0\n",
            "1\n",
            "4\n",
            "9\n",
            "16\n",
            "25\n",
            "36\n",
            "49\n",
            "64\n",
            "81\n",
            "100\n",
            "121\n"
          ],
          "name": "stdout"
        }
      ]
    },
    {
      "cell_type": "code",
      "metadata": {
        "id": "hi2a__zxveBR",
        "colab_type": "code",
        "colab": {
          "base_uri": "https://localhost:8080/",
          "height": 119
        },
        "outputId": "abab3a5c-c10a-4629-818f-576d019ba083"
      },
      "source": [
        "a=np.floor(10*np.random.random((3,4)))\n",
        "a\n",
        "a.reshape(2,6)\n",
        "a\n",
        "a.resize(2,6)\n",
        "a\n",
        "a.ravel()\n",
        "a\n",
        "a.T"
      ],
      "execution_count": 67,
      "outputs": [
        {
          "output_type": "execute_result",
          "data": {
            "text/plain": [
              "array([[0., 4.],\n",
              "       [8., 1.],\n",
              "       [6., 4.],\n",
              "       [6., 4.],\n",
              "       [9., 7.],\n",
              "       [3., 1.]])"
            ]
          },
          "metadata": {
            "tags": []
          },
          "execution_count": 67
        }
      ]
    },
    {
      "cell_type": "code",
      "metadata": {
        "id": "lCCpe0O9xR74",
        "colab_type": "code",
        "colab": {
          "base_uri": "https://localhost:8080/",
          "height": 119
        },
        "outputId": "af2a7ad2-b98b-4986-bcc1-5786feb83698"
      },
      "source": [
        "a=np.floor(10*np.random.random((2,2)))\n",
        "print(a)\n",
        "\n",
        "b=np.floor(10*np.random.random((2,2)))\n",
        "print(b)\n",
        "np.vstack((a,b))\n",
        "np.hstack((a,b))"
      ],
      "execution_count": 69,
      "outputs": [
        {
          "output_type": "stream",
          "text": [
            "[[8. 6.]\n",
            " [2. 4.]]\n",
            "[[2. 8.]\n",
            " [0. 0.]]\n"
          ],
          "name": "stdout"
        },
        {
          "output_type": "execute_result",
          "data": {
            "text/plain": [
              "array([[8., 6., 2., 8.],\n",
              "       [2., 4., 0., 0.]])"
            ]
          },
          "metadata": {
            "tags": []
          },
          "execution_count": 69
        }
      ]
    }
  ]
}